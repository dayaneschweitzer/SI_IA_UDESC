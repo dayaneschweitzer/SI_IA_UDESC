{
  "nbformat": 4,
  "nbformat_minor": 0,
  "metadata": {
    "colab": {
      "provenance": []
    },
    "kernelspec": {
      "name": "python3",
      "display_name": "Python 3"
    },
    "language_info": {
      "name": "python"
    }
  },
  "cells": [
    {
      "cell_type": "markdown",
      "source": [
        "# Sistema de Busca Semântica para Portarias da UDESC\n",
        "\n",
        "Este notebook apresenta um sistema de busca inteligente baseado em modelos de linguagem (LLMs) e indexação vetorial com FAISS. Ele permite a recuperação de documentos administrativos (portarias e resoluções) da UDESC com base em similaridade semântica e textual.\n"
      ],
      "metadata": {
        "id": "EcJoisNWv4JB"
      }
    },
    {
      "cell_type": "code",
      "source": [
        "#Instalação de dependências (caso não estejam disponíveis)\n",
        "!pip install sentence-transformers faiss-cpu unidecode PyMuPDF\n",
        "!pip install pymupdf\n",
        "!pip install unidecode"
      ],
      "metadata": {
        "id": "9BU_oeIOwH1C"
      },
      "execution_count": 20,
      "outputs": []
    },
    {
      "cell_type": "code",
      "source": [
        "# Preparação dos dados (opcional)\n",
        "\n",
        "import fitz\n",
        "import os\n",
        "import re\n",
        "\n",
        "# Criar pasta para os textos extraídos\n",
        "os.makedirs(\"textos_extraidos\", exist_ok=True)\n",
        "\n",
        "# Caminho dos PDFs\n",
        "pasta_pdfs = \"portarias\"\n",
        "\n",
        "# Lista de arquivos que você quer ignorar por enquanto\n",
        "ignorar = [\n",
        "    \"Documento_de_área_2019.pdf\",\n",
        "    \"Documento_de_área_2017.pdf\",\n",
        "    \"Documento_de_área_2013_-_Regras_do_CA-CC_para_Avaliação_de_Mestrados_E_Qualis_Periódicos_(WebQualis).pdf\",\n",
        "    \"Documento_de_área_2013_-_Regras_do_CA-CC_para_Avaliação_de_Mestrados.pdf\"\n",
        "]\n",
        "\n",
        "# Função para extrair texto de um PDF\n",
        "def extrair_texto_pdf(caminho_pdf):\n",
        "    doc = fitz.open(caminho_pdf)\n",
        "    texto_total = \"\"\n",
        "    for pagina in doc:\n",
        "        texto_total += pagina.get_text()\n",
        "    doc.close()\n",
        "    return texto_total\n",
        "\n",
        "# Processar os PDFs válidos\n",
        "erros = []\n",
        "\n",
        "for arquivo in os.listdir(pasta_pdfs):\n",
        "    if arquivo.endswith(\".pdf\") and arquivo not in ignorar:\n",
        "        caminho = os.path.join(pasta_pdfs, arquivo)\n",
        "        try:\n",
        "            texto = extrair_texto_pdf(caminho)\n",
        "            nome_txt = arquivo.replace(\".pdf\", \".txt\")\n",
        "            with open(os.path.join(\"textos_extraidos\", nome_txt), \"w\", encoding=\"utf-8\") as f:\n",
        "                f.write(texto)\n",
        "        except Exception as e:\n",
        "            print(f\"Erro ao processar {arquivo}: {e}\")\n",
        "            erros.append(arquivo)\n",
        "\n",
        "# Mostrar quais arquivos deram erro\n",
        "if erros:\n",
        "    print(\"\\n⚠️ Arquivos com erro de leitura:\")\n",
        "    for erro in erros:\n",
        "        print(f\"- {erro}\")\n",
        "else:\n",
        "    print(\"\\n✅ Todos os arquivos foram processados com sucesso!\")\n"
      ],
      "metadata": {
        "colab": {
          "base_uri": "https://localhost:8080/"
        },
        "id": "T3JPvvZwcrag",
        "outputId": "097778e1-fdea-4cc6-c6cb-103266be6d80"
      },
      "execution_count": 5,
      "outputs": [
        {
          "output_type": "stream",
          "name": "stdout",
          "text": [
            "Requirement already satisfied: pymupdf in /usr/local/lib/python3.11/dist-packages (1.25.5)\n",
            "\n",
            "✅ Todos os arquivos foram processados com sucesso!\n"
          ]
        }
      ]
    },
    {
      "cell_type": "code",
      "source": [
        "#Geração do índice FAISS\n",
        "\n",
        "from sentence_transformers import SentenceTransformer\n",
        "import numpy as np\n",
        "import faiss\n",
        "import os\n",
        "import pickle\n",
        "\n",
        "modelo = SentenceTransformer('paraphrase-multilingual-MiniLM-L12-v2')\n",
        "\n",
        "textos = []\n",
        "nomes = []\n",
        "\n",
        "for nome_arquivo in os.listdir(\"textos_extraidos\"):\n",
        "    if nome_arquivo.endswith(\".txt\"):\n",
        "        with open(os.path.join(\"textos_extraidos\", nome_arquivo), \"r\", encoding=\"utf-8\") as f:\n",
        "            textos.append(f.read())\n",
        "        nomes.append(nome_arquivo)\n",
        "\n",
        "embeddings = modelo.encode(textos, convert_to_numpy=True)\n",
        "dimension = embeddings.shape[1]\n",
        "index = faiss.IndexFlatL2(dimension)\n",
        "index.add(embeddings)\n",
        "\n",
        "faiss.write_index(index, \"index_faiss.idx\")\n",
        "with open(\"nomes_textos.pkl\", \"wb\") as f:\n",
        "    pickle.dump(nomes, f)\n",
        "\n"
      ],
      "metadata": {
        "id": "g5LIbzCRgv5X"
      },
      "execution_count": 7,
      "outputs": []
    },
    {
      "cell_type": "code",
      "source": [
        "# Sistema de busca interativo (literal + semântica)\n",
        "\n",
        "import os\n",
        "import faiss\n",
        "import pickle\n",
        "import numpy as np\n",
        "import re\n",
        "import json\n",
        "import textwrap\n",
        "from sentence_transformers import SentenceTransformer\n",
        "from unidecode import unidecode\n",
        "from IPython.display import Markdown, display\n",
        "\n",
        "# Carregar modelo e índice\n",
        "modelo = SentenceTransformer('paraphrase-multilingual-MiniLM-L12-v2')\n",
        "index = faiss.read_index(\"index_faiss.idx\")\n",
        "\n",
        "with open(\"nomes_textos.pkl\", \"rb\") as f:\n",
        "    nomes = pickle.load(f)\n",
        "\n",
        "# Limpar nomes inválidos\n",
        "nomes = [nome.strip() for nome in nomes if nome.strip() and nome != \".txt\" and nome != \"​.txt\"]\n",
        "\n",
        "# Carregar links mapeados\n",
        "with open(\"mapeamento_links.json\", \"r\", encoding=\"utf-8\") as f:\n",
        "    mapeamento_links = json.load(f)\n",
        "\n",
        "# 🔎 Função robusta para encontrar o link correto do PDF\n",
        "def encontrar_link(nome_arquivo):\n",
        "    def normalizar(texto):\n",
        "        texto = unidecode(texto.lower())\n",
        "        texto = re.sub(r'[\\W_]+', '', texto)  # Remove tudo que não é letra ou número\n",
        "        return texto\n",
        "\n",
        "    chave_normalizada = normalizar(nome_arquivo)\n",
        "\n",
        "    # Primeiro: busca exata com normalização\n",
        "    for chave in mapeamento_links:\n",
        "        if normalizar(chave) == chave_normalizada:\n",
        "            return mapeamento_links[chave]\n",
        "\n",
        "    # Segundo: busca por inclusão parcial\n",
        "    for chave in mapeamento_links:\n",
        "        if chave_normalizada in normalizar(chave):\n",
        "            return mapeamento_links[chave]\n",
        "\n",
        "    return None\n",
        "\n",
        "# 📘 Busca literal nos textos\n",
        "def busca_literal_em_todos(pergunta):\n",
        "    resultados = []\n",
        "    pergunta_lower = pergunta.lower().strip()\n",
        "\n",
        "    for nome in nomes:\n",
        "        caminho = os.path.join(\"textos_extraidos\", nome)\n",
        "        if not os.path.exists(caminho):\n",
        "            continue\n",
        "\n",
        "        with open(caminho, \"r\", encoding=\"utf-8\") as f:\n",
        "            conteudo = f.read()\n",
        "\n",
        "        if pergunta_lower in conteudo.lower():\n",
        "            for linha in conteudo.splitlines():\n",
        "                if pergunta_lower in linha.lower():\n",
        "                    trecho = linha.strip()\n",
        "                    break\n",
        "            else:\n",
        "                trecho = textwrap.shorten(conteudo.replace(\"\\n\", \" \"), width=300, placeholder=\" [...]\")\n",
        "\n",
        "            link = encontrar_link(nome)\n",
        "\n",
        "            resultados.append({\n",
        "                \"nome\": nome,\n",
        "                \"trecho\": trecho,\n",
        "                \"link\": link,\n",
        "                \"similaridade\": None\n",
        "            })\n",
        "\n",
        "    return resultados\n",
        "\n",
        "# 🤖 Busca semântica com fallback\n",
        "def busca_semantica(pergunta, top_k=3):\n",
        "    embedding = modelo.encode([pergunta], convert_to_numpy=True)\n",
        "    distancias, indices = index.search(embedding, top_k)\n",
        "\n",
        "    resultados = []\n",
        "    for idx in indices[0]:\n",
        "        if idx >= len(nomes):\n",
        "            continue\n",
        "        nome = nomes[idx]\n",
        "        caminho = os.path.join(\"textos_extraidos\", nome)\n",
        "        if not os.path.exists(caminho):\n",
        "            continue\n",
        "\n",
        "        with open(caminho, \"r\", encoding=\"utf-8\") as f:\n",
        "            conteudo = f.read()\n",
        "\n",
        "        # Tenta achar trecho com palavras da pergunta\n",
        "        pergunta_lower = pergunta.lower()\n",
        "        trecho_encontrado = \"\"\n",
        "        for linha in conteudo.splitlines():\n",
        "            if any(p in linha.lower() for p in pergunta_lower.split()):\n",
        "                trecho_encontrado = linha.strip()\n",
        "                break\n",
        "        if not trecho_encontrado:\n",
        "            trecho_encontrado = textwrap.shorten(conteudo.replace(\"\\n\", \" \"), width=300, placeholder=\" [...]\")\n",
        "\n",
        "        link = encontrar_link(nome)\n",
        "        similaridade = round(np.dot(index.reconstruct(idx), embedding[0]), 2)\n",
        "\n",
        "        resultados.append({\n",
        "            \"nome\": nome,\n",
        "            \"trecho\": trecho_encontrado,\n",
        "            \"link\": link,\n",
        "            \"similaridade\": similaridade\n",
        "        })\n",
        "\n",
        "    return resultados\n",
        "\n",
        "# 🔁 Loop de busca interativo\n",
        "while True:\n",
        "    pergunta = input(\"📝 Digite sua pergunta (ou 'sair' para encerrar): \")\n",
        "    if pergunta.lower().strip() in [\"sair\", \"exit\", \"quit\"]:\n",
        "        print(\"👋 Encerrando a busca. Até logo!\")\n",
        "        break\n",
        "\n",
        "    # 1. Tenta busca literal primeiro\n",
        "    resultados = busca_literal_em_todos(pergunta)\n",
        "\n",
        "    # 2. Se não encontrar nada, faz busca semântica\n",
        "    if not resultados:\n",
        "        resultados = busca_semantica(pergunta)\n",
        "\n",
        "    if not resultados:\n",
        "        print(\"⚠️ Nenhum documento encontrado.\")\n",
        "        continue\n",
        "\n",
        "    print(f\"\\n📚 Encontrei {len(resultados)} documento(s) relevante(s):\\n\")\n",
        "\n",
        "    for i, doc in enumerate(resultados, 1):\n",
        "        print(f\"{i}. 📄 {doc['nome']}\")\n",
        "        if doc[\"similaridade\"] is not None:\n",
        "            print(f\"🔍 Similaridade: {doc['similaridade']}\")\n",
        "        print(f\"🧾 Trecho relevante:\\n\\n{doc['trecho']}\\n\")\n",
        "        if doc[\"link\"]:\n",
        "            display(Markdown(f\"🔗 [Clique para abrir o PDF original]({doc['link']})\"))\n",
        "        else:\n",
        "            print(\"⚠️ Link não disponível.\")\n",
        "        print(\"\\n\" + \"-\"*80)"
      ],
      "metadata": {
        "colab": {
          "base_uri": "https://localhost:8080/",
          "height": 1000
        },
        "id": "sYMbKPiGTx0q",
        "outputId": "6c237db5-2c47-4707-c42c-2f6900fc06c7"
      },
      "execution_count": 11,
      "outputs": [
        {
          "output_type": "stream",
          "name": "stdout",
          "text": [
            "Collecting unidecode\n",
            "  Downloading Unidecode-1.3.8-py3-none-any.whl.metadata (13 kB)\n",
            "Downloading Unidecode-1.3.8-py3-none-any.whl (235 kB)\n",
            "\u001b[2K   \u001b[90m━━━━━━━━━━━━━━━━━━━━━━━━━━━━━━━━━━━━━━━━\u001b[0m \u001b[32m235.5/235.5 kB\u001b[0m \u001b[31m4.0 MB/s\u001b[0m eta \u001b[36m0:00:00\u001b[0m\n",
            "\u001b[?25hInstalling collected packages: unidecode\n",
            "Successfully installed unidecode-1.3.8\n",
            "📝 Digite sua pergunta (ou 'sair' para encerrar): Programa de intercâmbio\n",
            "\n",
            "📚 Encontrei 2 documento(s) relevante(s):\n",
            "\n",
            "1. 📄 Resolução_0132014_-_CONSEPE_-_Aprova_o_Regimento_Geral_da_Pós-Graduação_Stricto_Sensu_da_UDESC.txt\n",
            "🧾 Trecho relevante:\n",
            "\n",
            "§ 2º A incorporação dos alunos no programa de intercâmbio sujeitar-se-á às regras\n",
            "\n"
          ]
        },
        {
          "output_type": "display_data",
          "data": {
            "text/plain": [
              "<IPython.core.display.Markdown object>"
            ],
            "text/markdown": "🔗 [Clique para abrir o PDF original](http://secon.udesc.br/consepe/resol/2014/013-2014-cpe.pdf)"
          },
          "metadata": {}
        },
        {
          "output_type": "stream",
          "name": "stdout",
          "text": [
            "\n",
            "--------------------------------------------------------------------------------\n",
            "2. 📄 Resolução_0072017_-_CONSEPE_-_Altera_dispositivos_do_Regimento_Geral_da_Pós-Graduação_Stricto_Sensu_da_UDESC.txt\n",
            "🧾 Trecho relevante:\n",
            "\n",
            "§ 2º A incorporação dos alunos no programa de intercâmbio sujeitar-se-á às\n",
            "\n"
          ]
        },
        {
          "output_type": "display_data",
          "data": {
            "text/plain": [
              "<IPython.core.display.Markdown object>"
            ],
            "text/markdown": "🔗 [Clique para abrir o PDF original](http://www.udesc.br/arquivos/cct/id_cpmenu/1017/resolucao_007_2017_consepe_15166515275844_1017.pdf)"
          },
          "metadata": {}
        },
        {
          "output_type": "stream",
          "name": "stdout",
          "text": [
            "\n",
            "--------------------------------------------------------------------------------\n",
            "📝 Digite sua pergunta (ou 'sair' para encerrar): Docente permanente\n",
            "\n",
            "📚 Encontrei 7 documento(s) relevante(s):\n",
            "\n",
            "1. 📄 Plano_atual_curso_MCAPPGCAP_Julho2022.txt\n",
            "🧾 Trecho relevante:\n",
            "\n",
            "um docente permanente do programa, foram adquiridos alguns equipamentos\n",
            "\n"
          ]
        },
        {
          "output_type": "display_data",
          "data": {
            "text/plain": [
              "<IPython.core.display.Markdown object>"
            ],
            "text/markdown": "🔗 [Clique para abrir o PDF original](https://www.udesc.br/arquivos/cct/id_cpmenu/5837/PlanoPPGCAP_2022_Aprovado_SGPe_16617976170432_5837.pdf)"
          },
          "metadata": {}
        },
        {
          "output_type": "stream",
          "name": "stdout",
          "text": [
            "\n",
            "--------------------------------------------------------------------------------\n",
            "2. 📄 Resolução_0402023_-_Credenciamento,_recredenciamento,_descredenciamento_e_acompanhamento_do_corpo_docente.txt\n",
            "🧾 Trecho relevante:\n",
            "\n",
            "Art. 2º – São atribuições do corpo docente permanente do programa:\n",
            "\n"
          ]
        },
        {
          "output_type": "display_data",
          "data": {
            "text/plain": [
              "<IPython.core.display.Markdown object>"
            ],
            "text/markdown": "🔗 [Clique para abrir o PDF original](https://www.udesc.br/arquivos/cct/id_cpmenu/5837/Resolucao_040_2023_Credenciamentodocente_16960258690867_5837.pdf)"
          },
          "metadata": {}
        },
        {
          "output_type": "stream",
          "name": "stdout",
          "text": [
            "\n",
            "--------------------------------------------------------------------------------\n",
            "3. 📄 Plano_de_Curso_Outubro2020_do_PPGCAP.txt\n",
            "🧾 Trecho relevante:\n",
            "\n",
            "coordenado por um docente permanente do programa, foram adquiridos\n",
            "\n"
          ]
        },
        {
          "output_type": "display_data",
          "data": {
            "text/plain": [
              "<IPython.core.display.Markdown object>"
            ],
            "text/markdown": "🔗 [Clique para abrir o PDF original](https://www.udesc.br/arquivos/cct/id_cpmenu/5837/Plano_v20_16055679115324_5837.pdf)"
          },
          "metadata": {}
        },
        {
          "output_type": "stream",
          "name": "stdout",
          "text": [
            "\n",
            "--------------------------------------------------------------------------------\n",
            "4. 📄 Resolução_0072016_-_CONSEPE_-_Altera_o_Regimento_Geral_da_Pós-Graduação_Stricto_Sensu_da_UDESC.txt\n",
            "🧾 Trecho relevante:\n",
            "\n",
            "“Art. 65A A atuação como docente permanente poderá se dar, no máximo, em até 3 (três)\n",
            "\n"
          ]
        },
        {
          "output_type": "display_data",
          "data": {
            "text/plain": [
              "<IPython.core.display.Markdown object>"
            ],
            "text/markdown": "🔗 [Clique para abrir o PDF original](http://www.udesc.br/arquivos/cct/id_cpmenu/1017/resolucao_007_2016_consepe_altera_regimento_geral_15166515351853_1017.pdf)"
          },
          "metadata": {}
        },
        {
          "output_type": "stream",
          "name": "stdout",
          "text": [
            "\n",
            "--------------------------------------------------------------------------------\n",
            "5. 📄 Resolução_0242018_-_Exame_de_Proficiência.txt\n",
            "🧾 Trecho relevante:\n",
            "\n",
            "qualquer docente permanente do programa.\n",
            "\n"
          ]
        },
        {
          "output_type": "display_data",
          "data": {
            "text/plain": [
              "<IPython.core.display.Markdown object>"
            ],
            "text/markdown": "🔗 [Clique para abrir o PDF original](https://www.udesc.br/arquivos/cct/id_cpmenu/5837/AprovadaResolucao_024_Proficiencia_17310722734667_5837.pdf)"
          },
          "metadata": {}
        },
        {
          "output_type": "stream",
          "name": "stdout",
          "text": [
            "\n",
            "--------------------------------------------------------------------------------\n",
            "6. 📄 Portaria_0812016_-_CAPES.txt\n",
            "🧾 Trecho relevante:\n",
            "\n",
            "Art. 4º A atuação como docente permanente poderá se dar,\n",
            "\n"
          ]
        },
        {
          "output_type": "display_data",
          "data": {
            "text/plain": [
              "<IPython.core.display.Markdown object>"
            ],
            "text/markdown": "🔗 [Clique para abrir o PDF original](http://www.udesc.br/arquivos/cct/id_cpmenu/1017/Portaria_8_2016_de_03_06_2016_CAPES_15263035171951_1017.pdf)"
          },
          "metadata": {}
        },
        {
          "output_type": "stream",
          "name": "stdout",
          "text": [
            "\n",
            "--------------------------------------------------------------------------------\n",
            "7. 📄 Resolução_0132014_-_CONSEPE_-_Aprova_o_Regimento_Geral_da_Pós-Graduação_Stricto_Sensu_da_UDESC.txt\n",
            "🧾 Trecho relevante:\n",
            "\n",
            "“Art. 65A. A atuação como docente permanente poderá se dar, no máximo, em até 3 (três)\n",
            "\n"
          ]
        },
        {
          "output_type": "display_data",
          "data": {
            "text/plain": [
              "<IPython.core.display.Markdown object>"
            ],
            "text/markdown": "🔗 [Clique para abrir o PDF original](http://secon.udesc.br/consepe/resol/2014/013-2014-cpe.pdf)"
          },
          "metadata": {}
        },
        {
          "output_type": "stream",
          "name": "stdout",
          "text": [
            "\n",
            "--------------------------------------------------------------------------------\n",
            "📝 Digite sua pergunta (ou 'sair' para encerrar): sair\n",
            "👋 Encerrando a busca. Até logo!\n"
          ]
        }
      ]
    }
  ]
}